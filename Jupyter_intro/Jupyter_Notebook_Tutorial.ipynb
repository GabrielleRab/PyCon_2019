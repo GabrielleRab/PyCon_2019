{
 "cells": [
  {
   "cell_type": "markdown",
   "metadata": {},
   "source": [
    "# Welcome to the Jupyter Notebook Tutorial: PyCon 2019\n",
    "Jupyter Notebooks are a great way to code or teach Python. You can mix and match markdown cells and code cells, and each cell is run individually.\n",
    "### Tip #1: Press shift + return to run each cell in a Jupyter Notebook.\n",
    "You can find more Jupyter Notebook shortcuts [here](https://gist.github.com/kidpixo/f4318f8c8143adee5b40)."
   ]
  },
  {
   "cell_type": "markdown",
   "metadata": {},
   "source": [
    "### Tip #2: Using markdown\n",
    "Double click anywhere in the cell to see or edit the markdown text in this cell. Run the cell to execute the markdown.\n",
    "\n",
    "This is how you turn text **bold** or *italics*.\n",
    "\n",
    "This is another line of text\n",
    "\n",
    "- This is\n",
    "- how you\n",
    "- make a list\n",
    "\n",
    "[Here is a hyperlink to more markdown commands](https://github.com/adam-p/markdown-here/wiki/Markdown-Cheatsheet)\n",
    "\n",
    "#### Use hashes to make text into a header. The more hashes, the smaller the font."
   ]
  },
  {
   "cell_type": "markdown",
   "metadata": {},
   "source": [
    "### Tip #3: Coding cells\n",
    "Each cell must be run individually. Try running the next three cells one at a time:"
   ]
  },
  {
   "cell_type": "code",
   "execution_count": null,
   "metadata": {},
   "outputs": [],
   "source": [
    "# Cell 1\n",
    "num = "
   ]
  },
  {
   "cell_type": "code",
   "execution_count": null,
   "metadata": {},
   "outputs": [],
   "source": [
    "# Cell 2\n",
    "num = 6"
   ]
  },
  {
   "cell_type": "code",
   "execution_count": null,
   "metadata": {},
   "outputs": [],
   "source": [
    "# Cell 3\n",
    "print(num) #Jupyter Notebook uses Python 3"
   ]
  },
  {
   "cell_type": "markdown",
   "metadata": {},
   "source": [
    "Now, run Cell #1 and then Cell #3 again, but skip Cell #2.\n",
    "\n",
    "(Notice that every time you run a cell, Jupyter increases the number in the brackets.)"
   ]
  },
  {
   "cell_type": "markdown",
   "metadata": {},
   "source": [
    "### Tip #4: Restarting the iPython Kernel\n",
    "Jupyter Notebooks runs Python using an iPython Kernal, but Python must be installed on your computer. \n",
    "\n",
    "In the Kernal dropdown menu there are several options:\n",
    "- Interrupt (stops Python- useful for infinite loops)\n",
    "- Restart (restarts the notebook, but leaves output from last run)\n",
    "- Restart & Clear Output (resets the Jupyter Notebook to its original state- cells remain, but output is cleared)\n",
    "- Restart & Run all (runs all cells- kind of a hack, try to avoid)\n",
    "- Reconnect (useful if Jupyter loses connection to Python)\n",
    "\n",
    "Click on Restart & Clear Output in the Kernel dropdown menu. Notice that there are no numbers in the coding cell brackets above.\n",
    "\n",
    "Now run Cell #3 above one more time."
   ]
  },
  {
   "cell_type": "markdown",
   "metadata": {},
   "source": [
    "### Tip #5: Undoing actions in Jupyter Notebooks\n",
    "Command+Z works like normal within a cell in Jupyter Notebooks. \n",
    "\n",
    "Try changing the value assigned to the variable in the next cell and then pressing command+Z."
   ]
  },
  {
   "cell_type": "code",
   "execution_count": null,
   "metadata": {},
   "outputs": [],
   "source": [
    "variable = \"value\""
   ]
  },
  {
   "cell_type": "code",
   "execution_count": null,
   "metadata": {},
   "outputs": [],
   "source": [
    "my_var = 78\n",
    "print(my_var)"
   ]
  },
  {
   "cell_type": "code",
   "execution_count": null,
   "metadata": {},
   "outputs": [],
   "source": [
    "print(variable)"
   ]
  },
  {
   "cell_type": "markdown",
   "metadata": {},
   "source": [
    "Now add a new cell and then press command+Z."
   ]
  },
  {
   "cell_type": "markdown",
   "metadata": {},
   "source": [
    "### Tip #6: Output in Jupyter Notebooks\n",
    "Run the code below to see that Jupyter Notebooks will return the value of variables even without a print statement:"
   ]
  },
  {
   "cell_type": "code",
   "execution_count": null,
   "metadata": {},
   "outputs": [],
   "source": [
    "program = \"BridgeUP: STEM\"\n",
    "program"
   ]
  },
  {
   "cell_type": "markdown",
   "metadata": {},
   "source": [
    "If you type multiple variable names in one cell, only the last value will be returned as output:"
   ]
  },
  {
   "cell_type": "code",
   "execution_count": null,
   "metadata": {},
   "outputs": [],
   "source": [
    "language1 = \"Python\"\n",
    "print(language1)\n",
    "\n",
    "language2 = \"R\"\n",
    "print(language2)\n",
    "\n",
    "language3 = \"JavaScript\"\n",
    "language3"
   ]
  },
  {
   "cell_type": "markdown",
   "metadata": {},
   "source": [
    "### Tip #7: Adding and removing cells\n",
    "\n",
    "You can add and remove either markdown or coding cells to your Jupyter Notebook as well as copy existing cells.\n",
    "\n",
    "**1)** Click on this cell. Then add a cell below using the + button in the toolbar above.\n",
    "\n",
    "**2)** Copy the cell you just made by clicking on it and then clicking this icon in the toolbar above: \n",
    "\n",
    "<img src=\"https://encrypted-tbn0.gstatic.com/images?q=tbn:ANd9GcRSAXnBmWxswFIxyRvdmp4r_LJ9eTV8WcvUL5IyX8C8QgyicShC\" alt=\"paste\" width=\"30\" align = \"left\"/> \n",
    "<br>\n",
    "<br>\n",
    "**3)** Paste the cell using this icon in the toolbar above: \n",
    "<br>\n",
    "<img src=\"https://icon2.kisspng.com/20180517/fzq/kisspng-computer-icons-cut-copy-and-paste-desktop-wallpa-clipboard-5afd1bb116e553.9983788215265371370938.jpg\" alt=\"paste\" width=\"20\" align = \"left\"/>\n",
    "<br>\n",
    "<br>\n",
    "**4)** Delete one of the new cells by clicking on it and then clicking this icon in the toolbar above: \n",
    "<br>\n",
    "<img src=\"https://banner2.kisspng.com/20180331/ejw/kisspng-cut-copy-and-paste-computer-icons-copying-text-e-scissor-5abf5394c40315.0527851015224882128029.jpg\" alt=\"paste\" width=\"40\" align = \"left\"/>\n",
    "<br>\n",
    "<br>\n",
    "\n",
    "**5)** Write some code in your remaining cell and run it.\n",
    "\n",
    "**6)** Click on your cell, change it from \"Code\" to \"Markdown\" in the dropdown at the top of the Notebook and run it again"
   ]
  },
  {
   "cell_type": "code",
   "execution_count": null,
   "metadata": {},
   "outputs": [],
   "source": [
    "print(\"Hello world\")"
   ]
  },
  {
   "cell_type": "markdown",
   "metadata": {},
   "source": [
    "### Tip #8: Graphing in Jupyter Notebook\n",
    "Jupyter has its own built in visualizer for graphical output. Try running the code below:"
   ]
  },
  {
   "cell_type": "code",
   "execution_count": null,
   "metadata": {},
   "outputs": [],
   "source": [
    "import matplotlib.pyplot as plt\n",
    "years = [2003, 2004, 2005, 2006, 2007, 2008, 2009, 2010, 2011, 2012, 2013, 2014, 2015, 2016, 2017]\n",
    "attendees = [200, 300, 400, 400, 500, 1000, 900, 1000, 1400, 2300, 2500, 2500, 3100, 3294, 3391]\n",
    "plt.plot(years, attendees, marker = \"x\")\n",
    "plt.ylabel(\"Number of attendees\")\n",
    "plt.title(\"PyCon attendance over time\")\n",
    "#plt.savefig(\"PyCon_graph.png\", dpi=500)\n",
    "plt.show()"
   ]
  },
  {
   "cell_type": "markdown",
   "metadata": {},
   "source": [
    "### Tip #9: Opening files in Jupyter Notebook\n",
    "Unless you use the entire file path, you will need to put a file in the same directory as the Jupyter Notebook file in order to open it.\n",
    "\n",
    "Download the named file and then try running the cell below:"
   ]
  },
  {
   "cell_type": "code",
   "execution_count": null,
   "metadata": {},
   "outputs": [],
   "source": [
    "import pandas as pd\n",
    "df = pd.read_csv(\"PyCon_attendance.csv\")\n",
    "df"
   ]
  },
  {
   "cell_type": "markdown",
   "metadata": {},
   "source": [
    "### Tip #10: Magic commands and timing your cells\n",
    "You can use \"magic\" commands to customize your Jupyter Notebook. See a list of common magic commands [here](https://www.dummies.com/programming/python/common-jupyter-notebook-magic-functions/).\n",
    "\n",
    "One useful magic commands is the %%time command. Add that to a cell to output the time it takes to run the code."
   ]
  },
  {
   "cell_type": "code",
   "execution_count": null,
   "metadata": {},
   "outputs": [],
   "source": [
    "%%time\n",
    "print(\"Hello World\")"
   ]
  },
  {
   "cell_type": "code",
   "execution_count": null,
   "metadata": {},
   "outputs": [],
   "source": [
    "%%time\n",
    "a = 0\n",
    "for i in range (0,100000):\n",
    "    a+=i"
   ]
  },
  {
   "cell_type": "markdown",
   "metadata": {},
   "source": [
    "### Tip #11: Saving your Notebook\n",
    "Jupyter will save your Notebook automatically at periodic intervals, but I encourage you to save the noteook using command+S after large amounts of work."
   ]
  },
  {
   "cell_type": "markdown",
   "metadata": {},
   "source": [
    "### Tip #12: Downloading the Notebook\n",
    "You can download your work as a .ipynb (Notebook) or a .py (Python) file in the \"File\" dropdown menu in the toolbar."
   ]
  }
 ],
 "metadata": {
  "kernelspec": {
   "display_name": "Python 3",
   "language": "python",
   "name": "python3"
  },
  "language_info": {
   "codemirror_mode": {
    "name": "ipython",
    "version": 3
   },
   "file_extension": ".py",
   "mimetype": "text/x-python",
   "name": "python",
   "nbconvert_exporter": "python",
   "pygments_lexer": "ipython3",
   "version": "3.7.0"
  }
 },
 "nbformat": 4,
 "nbformat_minor": 2
}
