{
 "cells": [
  {
   "cell_type": "markdown",
   "metadata": {},
   "source": [
    "# Coral Bleaching"
   ]
  },
  {
   "cell_type": "code",
   "execution_count": 2,
   "metadata": {},
   "outputs": [],
   "source": [
    "import pandas as pd\n",
    "import matplotlib.pyplot as plt\n",
    "%matplotlib inline"
   ]
  },
  {
   "cell_type": "code",
   "execution_count": 59,
   "metadata": {},
   "outputs": [
    {
     "data": {
      "text/html": [
       "<div>\n",
       "<style scoped>\n",
       "    .dataframe tbody tr th:only-of-type {\n",
       "        vertical-align: middle;\n",
       "    }\n",
       "\n",
       "    .dataframe tbody tr th {\n",
       "        vertical-align: top;\n",
       "    }\n",
       "\n",
       "    .dataframe thead th {\n",
       "        text-align: right;\n",
       "    }\n",
       "</style>\n",
       "<table border=\"1\" class=\"dataframe\">\n",
       "  <thead>\n",
       "    <tr style=\"text-align: right;\">\n",
       "      <th></th>\n",
       "      <th>Latitude</th>\n",
       "      <th>Longitude</th>\n",
       "      <th>Sea_Surface_Temperature</th>\n",
       "      <th>HotSpots</th>\n",
       "      <th>Degree_Heating_Weeks</th>\n",
       "      <th>Bleaching_Alert_Area</th>\n",
       "    </tr>\n",
       "    <tr>\n",
       "      <th>Date</th>\n",
       "      <th></th>\n",
       "      <th></th>\n",
       "      <th></th>\n",
       "      <th></th>\n",
       "      <th></th>\n",
       "      <th></th>\n",
       "    </tr>\n",
       "  </thead>\n",
       "  <tbody>\n",
       "    <tr>\n",
       "      <th>2013-03-12</th>\n",
       "      <td>-16.775</td>\n",
       "      <td>179.35</td>\n",
       "      <td>29.0063</td>\n",
       "      <td>0.6933</td>\n",
       "      <td>0.0</td>\n",
       "      <td>0</td>\n",
       "    </tr>\n",
       "    <tr>\n",
       "      <th>2013-03-13</th>\n",
       "      <td>-16.775</td>\n",
       "      <td>179.35</td>\n",
       "      <td>29.0676</td>\n",
       "      <td>0.6564</td>\n",
       "      <td>0.0</td>\n",
       "      <td>0</td>\n",
       "    </tr>\n",
       "    <tr>\n",
       "      <th>2013-03-14</th>\n",
       "      <td>-16.775</td>\n",
       "      <td>179.35</td>\n",
       "      <td>29.0072</td>\n",
       "      <td>0.6890</td>\n",
       "      <td>0.0</td>\n",
       "      <td>0</td>\n",
       "    </tr>\n",
       "    <tr>\n",
       "      <th>2013-03-15</th>\n",
       "      <td>-16.775</td>\n",
       "      <td>179.35</td>\n",
       "      <td>28.7072</td>\n",
       "      <td>0.1567</td>\n",
       "      <td>0.0</td>\n",
       "      <td>0</td>\n",
       "    </tr>\n",
       "    <tr>\n",
       "      <th>2013-03-16</th>\n",
       "      <td>-16.775</td>\n",
       "      <td>179.35</td>\n",
       "      <td>29.5560</td>\n",
       "      <td>0.9917</td>\n",
       "      <td>0.0</td>\n",
       "      <td>0</td>\n",
       "    </tr>\n",
       "  </tbody>\n",
       "</table>\n",
       "</div>"
      ],
      "text/plain": [
       "            Latitude  Longitude  Sea_Surface_Temperature  HotSpots  \\\n",
       "Date                                                                 \n",
       "2013-03-12   -16.775     179.35                  29.0063    0.6933   \n",
       "2013-03-13   -16.775     179.35                  29.0676    0.6564   \n",
       "2013-03-14   -16.775     179.35                  29.0072    0.6890   \n",
       "2013-03-15   -16.775     179.35                  28.7072    0.1567   \n",
       "2013-03-16   -16.775     179.35                  29.5560    0.9917   \n",
       "\n",
       "            Degree_Heating_Weeks  Bleaching_Alert_Area  \n",
       "Date                                                    \n",
       "2013-03-12                   0.0                     0  \n",
       "2013-03-13                   0.0                     0  \n",
       "2013-03-14                   0.0                     0  \n",
       "2013-03-15                   0.0                     0  \n",
       "2013-03-16                   0.0                     0  "
      ]
     },
     "execution_count": 59,
     "metadata": {},
     "output_type": "execute_result"
    }
   ],
   "source": [
    "fiji = pd.read_csv(\"Fiji_Bleaching.csv\", parse_dates=['Date'], index_col='Date')\n",
    "fiji.head()"
   ]
  },
  {
   "cell_type": "code",
   "execution_count": 60,
   "metadata": {},
   "outputs": [
    {
     "data": {
      "text/html": [
       "<div>\n",
       "<style scoped>\n",
       "    .dataframe tbody tr th:only-of-type {\n",
       "        vertical-align: middle;\n",
       "    }\n",
       "\n",
       "    .dataframe tbody tr th {\n",
       "        vertical-align: top;\n",
       "    }\n",
       "\n",
       "    .dataframe thead th {\n",
       "        text-align: right;\n",
       "    }\n",
       "</style>\n",
       "<table border=\"1\" class=\"dataframe\">\n",
       "  <thead>\n",
       "    <tr style=\"text-align: right;\">\n",
       "      <th></th>\n",
       "      <th>Latitude</th>\n",
       "      <th>Longitude</th>\n",
       "      <th>Sea_Surface_Temperature</th>\n",
       "      <th>HotSpots</th>\n",
       "      <th>Degree_Heating_Weeks</th>\n",
       "      <th>Bleaching_Alert_Area</th>\n",
       "    </tr>\n",
       "    <tr>\n",
       "      <th>Date</th>\n",
       "      <th></th>\n",
       "      <th></th>\n",
       "      <th></th>\n",
       "      <th></th>\n",
       "      <th></th>\n",
       "      <th></th>\n",
       "    </tr>\n",
       "  </thead>\n",
       "  <tbody>\n",
       "    <tr>\n",
       "      <th>2018-05-06</th>\n",
       "      <td>-16.775</td>\n",
       "      <td>179.35</td>\n",
       "      <td>27.7618</td>\n",
       "      <td>0.0</td>\n",
       "      <td>2.3413</td>\n",
       "      <td>0</td>\n",
       "    </tr>\n",
       "    <tr>\n",
       "      <th>2018-05-07</th>\n",
       "      <td>-16.775</td>\n",
       "      <td>179.35</td>\n",
       "      <td>28.0151</td>\n",
       "      <td>0.0</td>\n",
       "      <td>2.3413</td>\n",
       "      <td>0</td>\n",
       "    </tr>\n",
       "    <tr>\n",
       "      <th>2018-05-08</th>\n",
       "      <td>-16.775</td>\n",
       "      <td>179.35</td>\n",
       "      <td>27.9188</td>\n",
       "      <td>0.0</td>\n",
       "      <td>2.3413</td>\n",
       "      <td>0</td>\n",
       "    </tr>\n",
       "    <tr>\n",
       "      <th>2018-05-09</th>\n",
       "      <td>-16.775</td>\n",
       "      <td>179.35</td>\n",
       "      <td>27.6863</td>\n",
       "      <td>0.0</td>\n",
       "      <td>2.3413</td>\n",
       "      <td>0</td>\n",
       "    </tr>\n",
       "    <tr>\n",
       "      <th>2018-05-10</th>\n",
       "      <td>-16.775</td>\n",
       "      <td>179.35</td>\n",
       "      <td>27.2530</td>\n",
       "      <td>0.0</td>\n",
       "      <td>2.3413</td>\n",
       "      <td>0</td>\n",
       "    </tr>\n",
       "  </tbody>\n",
       "</table>\n",
       "</div>"
      ],
      "text/plain": [
       "            Latitude  Longitude  Sea_Surface_Temperature  HotSpots  \\\n",
       "Date                                                                 \n",
       "2018-05-06   -16.775     179.35                  27.7618       0.0   \n",
       "2018-05-07   -16.775     179.35                  28.0151       0.0   \n",
       "2018-05-08   -16.775     179.35                  27.9188       0.0   \n",
       "2018-05-09   -16.775     179.35                  27.6863       0.0   \n",
       "2018-05-10   -16.775     179.35                  27.2530       0.0   \n",
       "\n",
       "            Degree_Heating_Weeks  Bleaching_Alert_Area  \n",
       "Date                                                    \n",
       "2018-05-06                2.3413                     0  \n",
       "2018-05-07                2.3413                     0  \n",
       "2018-05-08                2.3413                     0  \n",
       "2018-05-09                2.3413                     0  \n",
       "2018-05-10                2.3413                     0  "
      ]
     },
     "execution_count": 60,
     "metadata": {},
     "output_type": "execute_result"
    }
   ],
   "source": [
    "fiji.tail()"
   ]
  },
  {
   "cell_type": "markdown",
   "metadata": {},
   "source": [
    "We have 5 years of daily measurements.\n",
    "\n",
    "Ideas:\n",
    "1. temperature change over time\n",
    "1. find date when above certain temperature\n",
    "1. plot different shades/color of the graph if over threshold\n",
    "1. comparing different stations (fiji vs florida vs...)\n",
    "1. regression on seasons / time of year.\n",
    "    - explain what statistical does and why we want to use it\n",
    "    - subset seasons\n",
    "    - draw conclusions from the line\n",
    "    - look at mean at each season & compare -- bar graphs or box plots\n",
    "    - stddev over seasons\n",
    "    \n",
    "Apply same concepts to another dataset\n",
    "Bonus for more advanced activities"
   ]
  },
  {
   "cell_type": "markdown",
   "metadata": {},
   "source": [
    "## Data Exploration"
   ]
  },
  {
   "cell_type": "markdown",
   "metadata": {},
   "source": [
    "First let's look at the sea surface temperature with respect to time for all the timepoints we have."
   ]
  },
  {
   "cell_type": "code",
   "execution_count": 67,
   "metadata": {},
   "outputs": [
    {
     "data": {
      "text/plain": [
       "[<matplotlib.lines.Line2D at 0x114d85a90>]"
      ]
     },
     "execution_count": 67,
     "metadata": {},
     "output_type": "execute_result"
    },
    {
     "data": {
      "image/png": "[encoded data removed]",
      "text/plain": [
       "<Figure size 432x288 with 1 Axes>"
      ]
     },
     "metadata": {
      "needs_background": "light"
     },
     "output_type": "display_data"
    }
   ],
   "source": [
    "plt.plot(fiji['Sea_Surface_Temperature'])"
   ]
  },
  {
   "cell_type": "markdown",
   "metadata": {},
   "source": [
    "In which year does the highest temperature occur? Let's take a closer look. In the below cell, type which year you think it occurs between the quotes '':"
   ]
  },
  {
   "cell_type": "code",
   "execution_count": 110,
   "metadata": {},
   "outputs": [],
   "source": [
    "# enter the year here:\n",
    "year = ''"
   ]
  },
  {
   "cell_type": "code",
   "execution_count": 101,
   "metadata": {},
   "outputs": [
    {
     "data": {
      "text/plain": [
       "[<matplotlib.lines.Line2D at 0x115191f60>]"
      ]
     },
     "execution_count": 101,
     "metadata": {},
     "output_type": "execute_result"
    },
    {
     "data": {
      "image/png": "[encoded data removed]",
      "text/plain": [
       "<Figure size 432x288 with 1 Axes>"
      ]
     },
     "metadata": {
      "needs_background": "light"
     },
     "output_type": "display_data"
    }
   ],
   "source": [
    "plt.plot(fiji['Sea_Surface_Temperature'][year])\n",
    "# TODO: clean up x axis labels. label y axis."
   ]
  },
  {
   "cell_type": "markdown",
   "metadata": {},
   "source": [
    "How would you title this plot?"
   ]
  },
  {
   "cell_type": "markdown",
   "metadata": {},
   "source": [
    "## Seasons\n",
    "Now let's take a look at one season: winter of 2016."
   ]
  },
  {
   "cell_type": "code",
   "execution_count": 105,
   "metadata": {},
   "outputs": [
    {
     "data": {
      "text/plain": [
       "[<matplotlib.lines.Line2D at 0x11539cef0>]"
      ]
     },
     "execution_count": 105,
     "metadata": {},
     "output_type": "execute_result"
    },
    {
     "data": {
      "image/png": "[encoded data removed]",
      "text/plain": [
       "<Figure size 432x288 with 1 Axes>"
      ]
     },
     "metadata": {
      "needs_background": "light"
     },
     "output_type": "display_data"
    }
   ],
   "source": [
    "winter_2016 = fiji['Sea_Surface_Temperature']['Jan 2016': 'Mar 2016']\n",
    "plt.plot(winter_2016)"
   ]
  },
  {
   "cell_type": "code",
   "execution_count": 106,
   "metadata": {},
   "outputs": [
    {
     "data": {
      "text/plain": [
       "27.4092"
      ]
     },
     "execution_count": 106,
     "metadata": {},
     "output_type": "execute_result"
    }
   ],
   "source": [
    "winter_2016.min()"
   ]
  },
  {
   "cell_type": "code",
   "execution_count": 107,
   "metadata": {},
   "outputs": [
    {
     "data": {
      "text/plain": [
       "31.4577"
      ]
     },
     "execution_count": 107,
     "metadata": {},
     "output_type": "execute_result"
    }
   ],
   "source": [
    "winter_2016.max()"
   ]
  },
  {
   "cell_type": "code",
   "execution_count": 108,
   "metadata": {},
   "outputs": [
    {
     "data": {
      "text/plain": [
       "29.511631868131865"
      ]
     },
     "execution_count": 108,
     "metadata": {},
     "output_type": "execute_result"
    }
   ],
   "source": [
    "winter_2016.mean()"
   ]
  },
  {
   "cell_type": "code",
   "execution_count": 109,
   "metadata": {},
   "outputs": [
    {
     "data": {
      "text/plain": [
       "0.7517827890907972"
      ]
     },
     "execution_count": 109,
     "metadata": {},
     "output_type": "execute_result"
    }
   ],
   "source": [
    "winter_2016.std()"
   ]
  },
  {
   "cell_type": "code",
   "execution_count": null,
   "metadata": {},
   "outputs": [],
   "source": []
  }
 ],
 "metadata": {
  "kernelspec": {
   "display_name": "Python 3",
   "language": "python",
   "name": "python3"
  },
  "language_info": {
   "codemirror_mode": {
    "name": "ipython",
    "version": 3
   },
   "file_extension": ".py",
   "mimetype": "text/x-python",
   "name": "python",
   "nbconvert_exporter": "python",
   "pygments_lexer": "ipython3",
   "version": "3.7.1"
  }
 },
 "nbformat": 4,
 "nbformat_minor": 2
}
