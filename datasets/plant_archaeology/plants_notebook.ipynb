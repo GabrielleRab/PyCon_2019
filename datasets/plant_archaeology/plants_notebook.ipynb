{
 "cells": [
  {
   "cell_type": "markdown",
   "metadata": {},
   "source": [
    "## Using panda to study plants"
   ]
  },
  {
   "cell_type": "markdown",
   "metadata": {},
   "source": [
    "These datasets compile the sample records of archaeobotanical (plant) remains from archaeological sites located in southwest Asia, central Anatolia and Cyprus dated to the Pre-Pottery Neolithic or earlier. These datasets were downloaded from the UK Archaeology Data Service, the Origins of agriculture: archaeobotanical database."
   ]
  },
  {
   "cell_type": "code",
   "execution_count": 21,
   "metadata": {},
   "outputs": [],
   "source": [
    "import pandas as pd\n",
    "import matplotlib.pyplot as plt"
   ]
  },
  {
   "cell_type": "markdown",
   "metadata": {},
   "source": [
    "Open the \"plant_taxa.csv\" file and the \"taxa_groups.csv\" file using the pd.read_csv() function. Don't forget to make sure the data frames have separate names!"
   ]
  },
  {
   "cell_type": "code",
   "execution_count": 41,
   "metadata": {},
   "outputs": [],
   "source": [
    "df = pd.read_csv('plant_taxa.csv', encoding='utf-8')#, encoding='cp500')\n",
    "group_df = pd.read_csv('taxa_groups.csv', encoding='utf-8')#, encoding='cp500')"
   ]
  },
  {
   "cell_type": "markdown",
   "metadata": {},
   "source": [
    "Look at the first five rows of the plant-taxa dataframe using the .head() method."
   ]
  },
  {
   "cell_type": "code",
   "execution_count": 50,
   "metadata": {},
   "outputs": [
    {
     "data": {
      "text/html": [
       "<div>\n",
       "<style scoped>\n",
       "    .dataframe tbody tr th:only-of-type {\n",
       "        vertical-align: middle;\n",
       "    }\n",
       "\n",
       "    .dataframe tbody tr th {\n",
       "        vertical-align: top;\n",
       "    }\n",
       "\n",
       "    .dataframe thead th {\n",
       "        text-align: right;\n",
       "    }\n",
       "</style>\n",
       "<table border=\"1\" class=\"dataframe\">\n",
       "  <thead>\n",
       "    <tr style=\"text-align: right;\">\n",
       "      <th></th>\n",
       "      <th>RecordID</th>\n",
       "      <th>Spcode</th>\n",
       "      <th>OriginalTaxon</th>\n",
       "      <th>IDlevel</th>\n",
       "      <th>IDnotes</th>\n",
       "      <th>PlantPart</th>\n",
       "      <th>Preservation</th>\n",
       "      <th>Quantification</th>\n",
       "      <th>ScoringSystem</th>\n",
       "      <th>NumberInd</th>\n",
       "      <th>QuantificationNotes</th>\n",
       "      <th>MNPP</th>\n",
       "    </tr>\n",
       "  </thead>\n",
       "  <tbody>\n",
       "    <tr>\n",
       "      <th>0</th>\n",
       "      <td>CATE-1</td>\n",
       "      <td>1</td>\n",
       "      <td>Descurainia</td>\n",
       "      <td>G</td>\n",
       "      <td>NaN</td>\n",
       "      <td>seed</td>\n",
       "      <td>c</td>\n",
       "      <td>1</td>\n",
       "      <td>MNI by weight</td>\n",
       "      <td>2666121.0</td>\n",
       "      <td>convert weight into an estimated no of whole s...</td>\n",
       "      <td>2666121</td>\n",
       "    </tr>\n",
       "    <tr>\n",
       "      <th>1</th>\n",
       "      <td>CATE-1</td>\n",
       "      <td>2</td>\n",
       "      <td>Triticum dicoccum</td>\n",
       "      <td>sp</td>\n",
       "      <td>NaN</td>\n",
       "      <td>grain</td>\n",
       "      <td>c</td>\n",
       "      <td>1</td>\n",
       "      <td>MNI</td>\n",
       "      <td>68.0</td>\n",
       "      <td>NaN</td>\n",
       "      <td>68</td>\n",
       "    </tr>\n",
       "    <tr>\n",
       "      <th>2</th>\n",
       "      <td>CATE-1</td>\n",
       "      <td>3</td>\n",
       "      <td>Triticum dicoccum</td>\n",
       "      <td>sp</td>\n",
       "      <td>NaN</td>\n",
       "      <td>embryo end frgs</td>\n",
       "      <td>c</td>\n",
       "      <td>1</td>\n",
       "      <td>MNI</td>\n",
       "      <td>264.0</td>\n",
       "      <td>NaN</td>\n",
       "      <td>264</td>\n",
       "    </tr>\n",
       "    <tr>\n",
       "      <th>3</th>\n",
       "      <td>CATE-1</td>\n",
       "      <td>4</td>\n",
       "      <td>Triticum dicoccum</td>\n",
       "      <td>sp</td>\n",
       "      <td>NaN</td>\n",
       "      <td>apex end frgs</td>\n",
       "      <td>c</td>\n",
       "      <td>1</td>\n",
       "      <td>MNI</td>\n",
       "      <td>112.0</td>\n",
       "      <td>NaN</td>\n",
       "      <td>112</td>\n",
       "    </tr>\n",
       "    <tr>\n",
       "      <th>4</th>\n",
       "      <td>CATE-1</td>\n",
       "      <td>5</td>\n",
       "      <td>Triticum dicoccum</td>\n",
       "      <td>sp</td>\n",
       "      <td>NaN</td>\n",
       "      <td>grain</td>\n",
       "      <td>c</td>\n",
       "      <td>1</td>\n",
       "      <td>fragments</td>\n",
       "      <td>116.0</td>\n",
       "      <td>NaN</td>\n",
       "      <td>116</td>\n",
       "    </tr>\n",
       "  </tbody>\n",
       "</table>\n",
       "</div>"
      ],
      "text/plain": [
       "  RecordID  Spcode      OriginalTaxon IDlevel IDnotes        PlantPart  \\\n",
       "0   CATE-1       1        Descurainia       G     NaN             seed   \n",
       "1   CATE-1       2  Triticum dicoccum      sp     NaN            grain   \n",
       "2   CATE-1       3  Triticum dicoccum      sp     NaN  embryo end frgs   \n",
       "3   CATE-1       4  Triticum dicoccum      sp     NaN    apex end frgs   \n",
       "4   CATE-1       5  Triticum dicoccum      sp     NaN            grain   \n",
       "\n",
       "  Preservation  Quantification  ScoringSystem  NumberInd  \\\n",
       "0            c               1  MNI by weight  2666121.0   \n",
       "1            c               1            MNI       68.0   \n",
       "2            c               1            MNI      264.0   \n",
       "3            c               1            MNI      112.0   \n",
       "4            c               1      fragments      116.0   \n",
       "\n",
       "                                 QuantificationNotes     MNPP  \n",
       "0  convert weight into an estimated no of whole s...  2666121  \n",
       "1                                                NaN       68  \n",
       "2                                                NaN      264  \n",
       "3                                                NaN      112  \n",
       "4                                                NaN      116  "
      ]
     },
     "execution_count": 50,
     "metadata": {},
     "output_type": "execute_result"
    }
   ],
   "source": [
    "df.head()"
   ]
  },
  {
   "cell_type": "markdown",
   "metadata": {},
   "source": [
    "You might notice that one of the columns contains the name of the plant. Which column do you think it is? ____________________________\n",
    "OriginalTaxon.\n",
    "\n",
    "Now, let's look at the observations that are only the taxon name: \"Arnebia decumbens\". That one is used for dyeing. Use the .head() observation to look at the first 5 observations of the Arnebia decumbens. "
   ]
  },
  {
   "cell_type": "code",
   "execution_count": 52,
   "metadata": {},
   "outputs": [
    {
     "data": {
      "text/html": [
       "<div>\n",
       "<style scoped>\n",
       "    .dataframe tbody tr th:only-of-type {\n",
       "        vertical-align: middle;\n",
       "    }\n",
       "\n",
       "    .dataframe tbody tr th {\n",
       "        vertical-align: top;\n",
       "    }\n",
       "\n",
       "    .dataframe thead th {\n",
       "        text-align: right;\n",
       "    }\n",
       "</style>\n",
       "<table border=\"1\" class=\"dataframe\">\n",
       "  <thead>\n",
       "    <tr style=\"text-align: right;\">\n",
       "      <th></th>\n",
       "      <th>RecordID</th>\n",
       "      <th>Spcode</th>\n",
       "      <th>OriginalTaxon</th>\n",
       "      <th>IDlevel</th>\n",
       "      <th>IDnotes</th>\n",
       "      <th>PlantPart</th>\n",
       "      <th>Preservation</th>\n",
       "      <th>Quantification</th>\n",
       "      <th>ScoringSystem</th>\n",
       "      <th>NumberInd</th>\n",
       "      <th>QuantificationNotes</th>\n",
       "      <th>MNPP</th>\n",
       "    </tr>\n",
       "  </thead>\n",
       "  <tbody>\n",
       "    <tr>\n",
       "      <th>509</th>\n",
       "      <td>WJ07-17</td>\n",
       "      <td>510</td>\n",
       "      <td>Arnebia decumbens</td>\n",
       "      <td>sp</td>\n",
       "      <td>NaN</td>\n",
       "      <td>seed</td>\n",
       "      <td>c</td>\n",
       "      <td>1</td>\n",
       "      <td>MNI</td>\n",
       "      <td>3.0</td>\n",
       "      <td>NaN</td>\n",
       "      <td>3</td>\n",
       "    </tr>\n",
       "    <tr>\n",
       "      <th>537</th>\n",
       "      <td>WJ07-14</td>\n",
       "      <td>538</td>\n",
       "      <td>Arnebia decumbens</td>\n",
       "      <td>sp</td>\n",
       "      <td>NaN</td>\n",
       "      <td>seed</td>\n",
       "      <td>c</td>\n",
       "      <td>1</td>\n",
       "      <td>MNI</td>\n",
       "      <td>4.0</td>\n",
       "      <td>NaN</td>\n",
       "      <td>4</td>\n",
       "    </tr>\n",
       "    <tr>\n",
       "      <th>566</th>\n",
       "      <td>WJ07-15</td>\n",
       "      <td>567</td>\n",
       "      <td>Arnebia decumbens</td>\n",
       "      <td>sp</td>\n",
       "      <td>NaN</td>\n",
       "      <td>seed</td>\n",
       "      <td>c</td>\n",
       "      <td>1</td>\n",
       "      <td>MNI</td>\n",
       "      <td>2.0</td>\n",
       "      <td>NaN</td>\n",
       "      <td>2</td>\n",
       "    </tr>\n",
       "    <tr>\n",
       "      <th>583</th>\n",
       "      <td>WJ07-16</td>\n",
       "      <td>584</td>\n",
       "      <td>Arnebia decumbens</td>\n",
       "      <td>sp</td>\n",
       "      <td>NaN</td>\n",
       "      <td>seed</td>\n",
       "      <td>c</td>\n",
       "      <td>1</td>\n",
       "      <td>MNI</td>\n",
       "      <td>1.0</td>\n",
       "      <td>NaN</td>\n",
       "      <td>1</td>\n",
       "    </tr>\n",
       "    <tr>\n",
       "      <th>611</th>\n",
       "      <td>WJ07-22</td>\n",
       "      <td>612</td>\n",
       "      <td>Arnebia decumbens</td>\n",
       "      <td>sp</td>\n",
       "      <td>NaN</td>\n",
       "      <td>seed</td>\n",
       "      <td>c</td>\n",
       "      <td>1</td>\n",
       "      <td>MNI</td>\n",
       "      <td>1.0</td>\n",
       "      <td>NaN</td>\n",
       "      <td>1</td>\n",
       "    </tr>\n",
       "  </tbody>\n",
       "</table>\n",
       "</div>"
      ],
      "text/plain": [
       "    RecordID  Spcode      OriginalTaxon IDlevel IDnotes PlantPart  \\\n",
       "509  WJ07-17     510  Arnebia decumbens      sp     NaN      seed   \n",
       "537  WJ07-14     538  Arnebia decumbens      sp     NaN      seed   \n",
       "566  WJ07-15     567  Arnebia decumbens      sp     NaN      seed   \n",
       "583  WJ07-16     584  Arnebia decumbens      sp     NaN      seed   \n",
       "611  WJ07-22     612  Arnebia decumbens      sp     NaN      seed   \n",
       "\n",
       "    Preservation  Quantification ScoringSystem  NumberInd QuantificationNotes  \\\n",
       "509            c               1           MNI        3.0                 NaN   \n",
       "537            c               1           MNI        4.0                 NaN   \n",
       "566            c               1           MNI        2.0                 NaN   \n",
       "583            c               1           MNI        1.0                 NaN   \n",
       "611            c               1           MNI        1.0                 NaN   \n",
       "\n",
       "     MNPP  \n",
       "509     3  \n",
       "537     4  \n",
       "566     2  \n",
       "583     1  \n",
       "611     1  "
      ]
     },
     "execution_count": 52,
     "metadata": {},
     "output_type": "execute_result"
    }
   ],
   "source": [
    "df[df['OriginalTaxon'] == 'Arnebia decumbens'].head()"
   ]
  },
  {
   "cell_type": "markdown",
   "metadata": {},
   "source": [
    "How many observations do we have about the Arnebia decumbens?"
   ]
  },
  {
   "cell_type": "code",
   "execution_count": 53,
   "metadata": {},
   "outputs": [
    {
     "data": {
      "text/plain": [
       "279"
      ]
     },
     "execution_count": 53,
     "metadata": {},
     "output_type": "execute_result"
    }
   ],
   "source": [
    "len(df[df['OriginalTaxon'] == 'Arnebia decumbens'])"
   ]
  },
  {
   "cell_type": "markdown",
   "metadata": {},
   "source": [
    "From the head, it looks like all of them are seeds. Is that true? "
   ]
  },
  {
   "cell_type": "code",
   "execution_count": 54,
   "metadata": {},
   "outputs": [
    {
     "data": {
      "text/plain": [
       "seed       278\n",
       "nutlets      1\n",
       "Name: PlantPart, dtype: int64"
      ]
     },
     "execution_count": 54,
     "metadata": {},
     "output_type": "execute_result"
    }
   ],
   "source": [
    "df[df['OriginalTaxon'] == 'Arnebia decumbens']['PlantPart'].value_counts()"
   ]
  },
  {
   "cell_type": "markdown",
   "metadata": {},
   "source": [
    "No, one of them is a nutlet!"
   ]
  },
  {
   "cell_type": "markdown",
   "metadata": {},
   "source": [
    "(WE THINK) that the NumberInd refers to the number of 'Arnebia decumbens' that were found at the site at each dig. What's the average number of seeds that we tend to find? Before we calculate this, we need to remove the observation that is \"nutlets\"!"
   ]
  },
  {
   "cell_type": "code",
   "execution_count": 65,
   "metadata": {},
   "outputs": [
    {
     "data": {
      "text/plain": [
       "32.32608695652174"
      ]
     },
     "execution_count": 65,
     "metadata": {},
     "output_type": "execute_result"
    }
   ],
   "source": [
    "arnebia = df[df['OriginalTaxon'] == 'Arnebia decumbens']\n",
    "arnebia['NumberInd'].loc[arnebia['PlantPart']=='seed'].mean()"
   ]
  },
  {
   "cell_type": "markdown",
   "metadata": {},
   "source": [
    "What percent of the Arnebia decumens findings were seeds? is this the same percent of seeds as the overall database?"
   ]
  },
  {
   "cell_type": "code",
   "execution_count": 67,
   "metadata": {},
   "outputs": [
    {
     "data": {
      "text/plain": [
       "0.996415770609319"
      ]
     },
     "execution_count": 67,
     "metadata": {},
     "output_type": "execute_result"
    }
   ],
   "source": [
    "# number of arnembia seeds:\n",
    "len(arnebia['NumberInd'].loc[arnebia['PlantPart']=='seed'])/len(arnebia)"
   ]
  },
  {
   "cell_type": "code",
   "execution_count": 78,
   "metadata": {},
   "outputs": [
    {
     "data": {
      "text/plain": [
       "0.5234960542491176"
      ]
     },
     "execution_count": 78,
     "metadata": {},
     "output_type": "execute_result"
    }
   ],
   "source": [
    "# number of seeds in the overall arnebia decumens\n",
    "sum(df['PlantPart']=='seed')/len(df)"
   ]
  },
  {
   "cell_type": "markdown",
   "metadata": {},
   "source": [
    "Look at the first five rows of the taxa_groups data. Then, look at the 'domprogwild' column. How many types does this column take on? "
   ]
  },
  {
   "cell_type": "code",
   "execution_count": 79,
   "metadata": {},
   "outputs": [
    {
     "data": {
      "text/html": [
       "<div>\n",
       "<style scoped>\n",
       "    .dataframe tbody tr th:only-of-type {\n",
       "        vertical-align: middle;\n",
       "    }\n",
       "\n",
       "    .dataframe tbody tr th {\n",
       "        vertical-align: top;\n",
       "    }\n",
       "\n",
       "    .dataframe thead th {\n",
       "        text-align: right;\n",
       "    }\n",
       "</style>\n",
       "<table border=\"1\" class=\"dataframe\">\n",
       "  <thead>\n",
       "    <tr style=\"text-align: right;\">\n",
       "      <th></th>\n",
       "      <th>ProjectTaxon</th>\n",
       "      <th>Family</th>\n",
       "      <th>Genus</th>\n",
       "      <th>IDtype</th>\n",
       "      <th>DomProgWild</th>\n",
       "    </tr>\n",
       "  </thead>\n",
       "  <tbody>\n",
       "    <tr>\n",
       "      <th>0</th>\n",
       "      <td>Abutilon teophrasti</td>\n",
       "      <td>Malvaceae</td>\n",
       "      <td>Abutilon</td>\n",
       "      <td>Single ID</td>\n",
       "      <td>Wild</td>\n",
       "    </tr>\n",
       "    <tr>\n",
       "      <th>1</th>\n",
       "      <td>Acacia/Prosopis</td>\n",
       "      <td>Fabaceae</td>\n",
       "      <td>Acacia/Prosopis</td>\n",
       "      <td>Multi ID</td>\n",
       "      <td>Wild</td>\n",
       "    </tr>\n",
       "    <tr>\n",
       "      <th>2</th>\n",
       "      <td>Achillea</td>\n",
       "      <td>Asteraceae</td>\n",
       "      <td>Achillea</td>\n",
       "      <td>Single ID</td>\n",
       "      <td>Wild</td>\n",
       "    </tr>\n",
       "    <tr>\n",
       "      <th>3</th>\n",
       "      <td>Achillea wilhelmsii</td>\n",
       "      <td>Asteraceae</td>\n",
       "      <td>Achillea</td>\n",
       "      <td>Single ID</td>\n",
       "      <td>Wild</td>\n",
       "    </tr>\n",
       "    <tr>\n",
       "      <th>4</th>\n",
       "      <td>Adonis</td>\n",
       "      <td>Ranunculaceae</td>\n",
       "      <td>Adonis</td>\n",
       "      <td>Single ID</td>\n",
       "      <td>Wild</td>\n",
       "    </tr>\n",
       "  </tbody>\n",
       "</table>\n",
       "</div>"
      ],
      "text/plain": [
       "          ProjectTaxon         Family            Genus     IDtype DomProgWild\n",
       "0  Abutilon teophrasti      Malvaceae         Abutilon  Single ID        Wild\n",
       "1      Acacia/Prosopis       Fabaceae  Acacia/Prosopis   Multi ID        Wild\n",
       "2             Achillea     Asteraceae         Achillea  Single ID        Wild\n",
       "3  Achillea wilhelmsii     Asteraceae         Achillea  Single ID        Wild\n",
       "4               Adonis  Ranunculaceae           Adonis  Single ID        Wild"
      ]
     },
     "execution_count": 79,
     "metadata": {},
     "output_type": "execute_result"
    }
   ],
   "source": [
    "group_df.head()"
   ]
  },
  {
   "cell_type": "code",
   "execution_count": 80,
   "metadata": {},
   "outputs": [
    {
     "data": {
      "text/plain": [
       "Wild                                    623\n",
       "Domesticated crop                        29\n",
       "Presumed Crop Domesticate/Progenitor     18\n",
       "Crop Progenitor                          10\n",
       "Crop Domesticate/Progenitor              10\n",
       "Progenitor/Wild                           4\n",
       "Crop progenitor                           2\n",
       "Domesticate crop                          1\n",
       "Likely crop/progenitor                    1\n",
       "Domesticate/Crop progenitor               1\n",
       ".Indet                                    1\n",
       "Name: DomProgWild, dtype: int64"
      ]
     },
     "execution_count": 80,
     "metadata": {},
     "output_type": "execute_result"
    }
   ],
   "source": [
    "group_df['DomProgWild'].value_counts()"
   ]
  },
  {
   "cell_type": "markdown",
   "metadata": {},
   "source": [
    "What percentage of the plants are wild, and what percent of the plants are domesticated?"
   ]
  },
  {
   "cell_type": "code",
   "execution_count": 83,
   "metadata": {},
   "outputs": [
    {
     "data": {
      "text/plain": [
       "0.041428571428571426"
      ]
     },
     "execution_count": 83,
     "metadata": {},
     "output_type": "execute_result"
    }
   ],
   "source": [
    "# wild precentage\n",
    "sum(group_df['DomProgWild']=='Wild')/len(group_df)\n",
    "\n",
    "#domesticated percentage\n",
    "sum(group_df['DomProgWild']=='Domesticated crop')/len(group_df)"
   ]
  },
  {
   "cell_type": "markdown",
   "metadata": {},
   "source": [
    "Discussion questions: What column value did we use for the 'domesticated percentage' column? Why did or didn't we use certain values?  What errors might there be in the NumberInd column?"
   ]
  },
  {
   "cell_type": "code",
   "execution_count": null,
   "metadata": {},
   "outputs": [],
   "source": []
  }
 ],
 "metadata": {
  "kernelspec": {
   "display_name": "Python 3",
   "language": "python",
   "name": "python3"
  },
  "language_info": {
   "codemirror_mode": {
    "name": "ipython",
    "version": 3
   },
   "file_extension": ".py",
   "mimetype": "text/x-python",
   "name": "python",
   "nbconvert_exporter": "python",
   "pygments_lexer": "ipython3",
   "version": "3.6.5"
  }
 },
 "nbformat": 4,
 "nbformat_minor": 2
}
