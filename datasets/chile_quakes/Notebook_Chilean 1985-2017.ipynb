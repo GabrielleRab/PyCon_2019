{
 "cells": [
  {
   "cell_type": "markdown",
   "metadata": {},
   "source": [
    "# Using pandas to study the Earthquakes\n",
    "\n",
    "### Chilean Earthquakes\n",
    "In April 24, 2017 a magnitude 6.9 earthquake occured just west of Valparaiso, Chile, as the result of thrust faulting on or near the subduction zone interface between the Nazca and Pacific tectonic plates. This same section of the plate boundary ruptured in a magnitude 8.0 earthquake in March 1985. These two datasets list all magnitude 2.5+ earthquakes in central Chile in 1985 and 2017. They were obtained from the United States [Geological Survey (USGS) Earthquake Catalog](https://earthquake.usgs.gov/earthquakes/search/). A rectangular region around Valparaiso, Chile was selected using the custom geographic region option. \n",
    "\n",
    "The datasets include the time, latitude, longitude, depth, and magnitude for each earthquake that occured. More information about each column in the datasets can be found [here](https://earthquake.usgs.gov/data/comcat/data-eventterms.php).\n",
    "\n",
    "\n",
    "In this notebook, you will use the pandas library to analyze a fraction of that dataset."
   ]
  },
  {
   "cell_type": "markdown",
   "metadata": {},
   "source": [
    "First, import the pandas and matplotlib.pyplot libraries:"
   ]
  },
  {
   "cell_type": "code",
   "execution_count": 1,
   "metadata": {},
   "outputs": [],
   "source": [
    "import pandas as pd\n",
    "import matplotlib.pyplot as plt"
   ]
  },
  {
   "cell_type": "markdown",
   "metadata": {},
   "source": [
    "Now, open the \"chile_quakes_1985.csv\" and \"chile_quakes_2017.csv\" files using the pd.read_csv(\"file_name\") function. Store the returned data frames in the variables df_1985 and df_2017"
   ]
  },
  {
   "cell_type": "code",
   "execution_count": 4,
   "metadata": {},
   "outputs": [],
   "source": [
    "df_1985 = pd.read_csv('chile_quakes_1985.csv')\n",
    "df_2017 = pd.read_csv('chile_quakes_2017.csv')"
   ]
  },
  {
   "cell_type": "markdown",
   "metadata": {},
   "source": [
    "Look at the first five rows of the dataframe, df_1985 using the .head() method."
   ]
  },
  {
   "cell_type": "code",
   "execution_count": 7,
   "metadata": {},
   "outputs": [
    {
     "data": {
      "text/html": [
       "<div>\n",
       "<style>\n",
       "    .dataframe thead tr:only-child th {\n",
       "        text-align: right;\n",
       "    }\n",
       "\n",
       "    .dataframe thead th {\n",
       "        text-align: left;\n",
       "    }\n",
       "\n",
       "    .dataframe tbody tr th {\n",
       "        vertical-align: top;\n",
       "    }\n",
       "</style>\n",
       "<table border=\"1\" class=\"dataframe\">\n",
       "  <thead>\n",
       "    <tr style=\"text-align: right;\">\n",
       "      <th></th>\n",
       "      <th>time</th>\n",
       "      <th>latitude</th>\n",
       "      <th>longitude</th>\n",
       "      <th>depth</th>\n",
       "      <th>mag</th>\n",
       "      <th>magType</th>\n",
       "      <th>rms</th>\n",
       "      <th>id</th>\n",
       "      <th>updated</th>\n",
       "      <th>place</th>\n",
       "      <th>depthError</th>\n",
       "      <th>magNst</th>\n",
       "      <th>locationSource</th>\n",
       "      <th>magSource</th>\n",
       "    </tr>\n",
       "  </thead>\n",
       "  <tbody>\n",
       "    <tr>\n",
       "      <th>0</th>\n",
       "      <td>1985-12-30T18:40:00.960Z</td>\n",
       "      <td>-33.034</td>\n",
       "      <td>-71.910</td>\n",
       "      <td>49.3</td>\n",
       "      <td>4.8</td>\n",
       "      <td>mb</td>\n",
       "      <td>1.0</td>\n",
       "      <td>usp0002pkv</td>\n",
       "      <td>2014-11-07T00:37:41.553Z</td>\n",
       "      <td>offshore Valparaiso, Chile</td>\n",
       "      <td>10.1</td>\n",
       "      <td>4.0</td>\n",
       "      <td>us</td>\n",
       "      <td>us</td>\n",
       "    </tr>\n",
       "    <tr>\n",
       "      <th>1</th>\n",
       "      <td>1985-12-27T22:41:51.240Z</td>\n",
       "      <td>-32.805</td>\n",
       "      <td>-72.472</td>\n",
       "      <td>33.0</td>\n",
       "      <td>4.6</td>\n",
       "      <td>mb</td>\n",
       "      <td>1.5</td>\n",
       "      <td>usp0002pgc</td>\n",
       "      <td>2014-11-07T00:37:40.859Z</td>\n",
       "      <td>offshore Valparaiso, Chile</td>\n",
       "      <td>NaN</td>\n",
       "      <td>1.0</td>\n",
       "      <td>us</td>\n",
       "      <td>us</td>\n",
       "    </tr>\n",
       "    <tr>\n",
       "      <th>2</th>\n",
       "      <td>1985-12-26T03:59:18.870Z</td>\n",
       "      <td>-34.090</td>\n",
       "      <td>-70.062</td>\n",
       "      <td>6.1</td>\n",
       "      <td>5.3</td>\n",
       "      <td>mb</td>\n",
       "      <td>1.1</td>\n",
       "      <td>usp0002pe8</td>\n",
       "      <td>2014-11-07T00:37:40.232Z</td>\n",
       "      <td>Region Metropolitana, Chile</td>\n",
       "      <td>4.5</td>\n",
       "      <td>21.0</td>\n",
       "      <td>us</td>\n",
       "      <td>us</td>\n",
       "    </tr>\n",
       "    <tr>\n",
       "      <th>3</th>\n",
       "      <td>1985-12-25T05:17:10.680Z</td>\n",
       "      <td>-38.834</td>\n",
       "      <td>-74.518</td>\n",
       "      <td>33.0</td>\n",
       "      <td>4.4</td>\n",
       "      <td>mb</td>\n",
       "      <td>1.4</td>\n",
       "      <td>usp0002pd4</td>\n",
       "      <td>2014-11-07T00:37:40.077Z</td>\n",
       "      <td>offshore Araucania, Chile</td>\n",
       "      <td>NaN</td>\n",
       "      <td>4.0</td>\n",
       "      <td>us</td>\n",
       "      <td>us</td>\n",
       "    </tr>\n",
       "    <tr>\n",
       "      <th>4</th>\n",
       "      <td>1985-12-19T13:58:39.740Z</td>\n",
       "      <td>-28.336</td>\n",
       "      <td>-71.012</td>\n",
       "      <td>33.0</td>\n",
       "      <td>5.0</td>\n",
       "      <td>mb</td>\n",
       "      <td>1.9</td>\n",
       "      <td>usp0002p31</td>\n",
       "      <td>2014-11-07T00:37:38.694Z</td>\n",
       "      <td>Atacama, Chile</td>\n",
       "      <td>NaN</td>\n",
       "      <td>1.0</td>\n",
       "      <td>us</td>\n",
       "      <td>us</td>\n",
       "    </tr>\n",
       "  </tbody>\n",
       "</table>\n",
       "</div>"
      ],
      "text/plain": [
       "                       time  latitude  longitude  depth  mag magType  rms  \\\n",
       "0  1985-12-30T18:40:00.960Z   -33.034    -71.910   49.3  4.8      mb  1.0   \n",
       "1  1985-12-27T22:41:51.240Z   -32.805    -72.472   33.0  4.6      mb  1.5   \n",
       "2  1985-12-26T03:59:18.870Z   -34.090    -70.062    6.1  5.3      mb  1.1   \n",
       "3  1985-12-25T05:17:10.680Z   -38.834    -74.518   33.0  4.4      mb  1.4   \n",
       "4  1985-12-19T13:58:39.740Z   -28.336    -71.012   33.0  5.0      mb  1.9   \n",
       "\n",
       "           id                   updated                        place  \\\n",
       "0  usp0002pkv  2014-11-07T00:37:41.553Z   offshore Valparaiso, Chile   \n",
       "1  usp0002pgc  2014-11-07T00:37:40.859Z   offshore Valparaiso, Chile   \n",
       "2  usp0002pe8  2014-11-07T00:37:40.232Z  Region Metropolitana, Chile   \n",
       "3  usp0002pd4  2014-11-07T00:37:40.077Z    offshore Araucania, Chile   \n",
       "4  usp0002p31  2014-11-07T00:37:38.694Z               Atacama, Chile   \n",
       "\n",
       "   depthError  magNst locationSource magSource  \n",
       "0        10.1     4.0             us        us  \n",
       "1         NaN     1.0             us        us  \n",
       "2         4.5    21.0             us        us  \n",
       "3         NaN     4.0             us        us  \n",
       "4         NaN     1.0             us        us  "
      ]
     },
     "execution_count": 7,
     "metadata": {},
     "output_type": "execute_result"
    }
   ],
   "source": [
    "df_1985.head()"
   ]
  },
  {
   "cell_type": "markdown",
   "metadata": {},
   "source": [
    "How many rows are there in df_1985 dataframe?"
   ]
  },
  {
   "cell_type": "code",
   "execution_count": 26,
   "metadata": {},
   "outputs": [
    {
     "data": {
      "text/plain": [
       "392"
      ]
     },
     "execution_count": 26,
     "metadata": {},
     "output_type": "execute_result"
    }
   ],
   "source": [
    "len(df_1985)\n",
    "# You can also use the pandas method df.count()"
   ]
  },
  {
   "cell_type": "markdown",
   "metadata": {},
   "source": [
    "\n",
    "\n",
    "### Chilean Earthquakes 1985\n",
    "\n",
    "Now you will work on the df_1985 dataframe."
   ]
  },
  {
   "cell_type": "markdown",
   "metadata": {},
   "source": [
    "#### What is the average magnitude of earthquakes that stuck Chile in 1985?"
   ]
  },
  {
   "cell_type": "code",
   "execution_count": 27,
   "metadata": {},
   "outputs": [
    {
     "data": {
      "text/plain": [
       "4.657653061224491"
      ]
     },
     "execution_count": 27,
     "metadata": {},
     "output_type": "execute_result"
    }
   ],
   "source": [
    "df_1985[\"mag\"].mean()"
   ]
  },
  {
   "cell_type": "markdown",
   "metadata": {},
   "source": [
    "#### What was the magnitude of the worst earthquake that stuck Chile in 1985?"
   ]
  },
  {
   "cell_type": "code",
   "execution_count": 28,
   "metadata": {},
   "outputs": [
    {
     "data": {
      "text/plain": [
       "8.0"
      ]
     },
     "execution_count": 28,
     "metadata": {},
     "output_type": "execute_result"
    }
   ],
   "source": [
    "df_1985[\"mag\"].max()"
   ]
  },
  {
   "cell_type": "markdown",
   "metadata": {},
   "source": [
    "#### Which place was affected by the worst earthquake in Chile in 1985?"
   ]
  },
  {
   "cell_type": "code",
   "execution_count": 32,
   "metadata": {},
   "outputs": [
    {
     "data": {
      "text/plain": [
       "344    offshore Valparaiso, Chile\n",
       "Name: place, dtype: object"
      ]
     },
     "execution_count": 32,
     "metadata": {},
     "output_type": "execute_result"
    }
   ],
   "source": [
    "df_1985[df_1985.mag == df_1985[\"mag\"].max()][\"place\"]"
   ]
  },
  {
   "cell_type": "markdown",
   "metadata": {},
   "source": [
    "#### How many earthquakes affect 'Atacama, Chile' in Chile in 1985?"
   ]
  },
  {
   "cell_type": "code",
   "execution_count": 53,
   "metadata": {},
   "outputs": [
    {
     "data": {
      "text/plain": [
       "8"
      ]
     },
     "execution_count": 53,
     "metadata": {},
     "output_type": "execute_result"
    }
   ],
   "source": [
    "len(df_1985[df_1985.place == \"Atacama, Chile\"])"
   ]
  },
  {
   "cell_type": "markdown",
   "metadata": {},
   "source": [
    "#### Looking at the distribution of Earthquake Magnitudes\n",
    "Let's create a graph called a \"histogram\" that shows us how many earthquakes have magnitudes in each range.\n",
    "\n",
    "There's a simple matplotlib.pyplot function for this called plt.hist()\n",
    "\n",
    "The plt.hist() function takes three arguments: \n",
    "- The dataframe index (or variable) that you want to look at\n",
    "- *optional* The number of ranges\n",
    "- *optional* (x min, x max)\n",
    "\n",
    "Don't forget plt.show() at the end!"
   ]
  },
  {
   "cell_type": "code",
   "execution_count": 55,
   "metadata": {},
   "outputs": [
    {
     "data": {
      "image/png": "[encoded data removed]",
      "text/plain": [
       "<matplotlib.figure.Figure at 0xb265860>"
      ]
     },
     "metadata": {},
     "output_type": "display_data"
    }
   ],
   "source": [
    "plt.hist(df_1985[\"mag\"])\n",
    "plt.show()"
   ]
  },
  {
   "cell_type": "code",
   "execution_count": null,
   "metadata": {},
   "outputs": [],
   "source": []
  }
 ],
 "metadata": {
  "kernelspec": {
   "display_name": "Python 2",
   "language": "python",
   "name": "python2"
  },
  "language_info": {
   "codemirror_mode": {
    "name": "ipython",
    "version": 2
   },
   "file_extension": ".py",
   "mimetype": "text/x-python",
   "name": "python",
   "nbconvert_exporter": "python",
   "pygments_lexer": "ipython2",
   "version": "2.7.14"
  }
 },
 "nbformat": 4,
 "nbformat_minor": 2
}
