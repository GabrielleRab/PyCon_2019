{
 "cells": [
  {
   "cell_type": "code",
   "execution_count": 1,
   "metadata": {
    "collapsed": true
   },
   "outputs": [],
   "source": [
    "import pandas as pd"
   ]
  },
  {
   "cell_type": "markdown",
   "metadata": {},
   "source": [
    "# Reading 1985 earth quake data from CSV"
   ]
  },
  {
   "cell_type": "code",
   "execution_count": 2,
   "metadata": {
    "collapsed": true
   },
   "outputs": [],
   "source": [
    "quake_1985 = pd.read_csv('chile_quakes_1985.csv', parse_dates=['time'])"
   ]
  },
  {
   "cell_type": "markdown",
   "metadata": {},
   "source": [
    "# Observe data in the CSV by printing randomly selected 5 rows"
   ]
  },
  {
   "cell_type": "code",
   "execution_count": 3,
   "metadata": {},
   "outputs": [
    {
     "data": {
      "text/html": [
       "<div>\n",
       "<style>\n",
       "    .dataframe thead tr:only-child th {\n",
       "        text-align: right;\n",
       "    }\n",
       "\n",
       "    .dataframe thead th {\n",
       "        text-align: left;\n",
       "    }\n",
       "\n",
       "    .dataframe tbody tr th {\n",
       "        vertical-align: top;\n",
       "    }\n",
       "</style>\n",
       "<table border=\"1\" class=\"dataframe\">\n",
       "  <thead>\n",
       "    <tr style=\"text-align: right;\">\n",
       "      <th></th>\n",
       "      <th>time</th>\n",
       "      <th>latitude</th>\n",
       "      <th>longitude</th>\n",
       "      <th>depth</th>\n",
       "      <th>mag</th>\n",
       "      <th>magType</th>\n",
       "      <th>rms</th>\n",
       "      <th>id</th>\n",
       "      <th>updated</th>\n",
       "      <th>place</th>\n",
       "      <th>depthError</th>\n",
       "      <th>magNst</th>\n",
       "      <th>locationSource</th>\n",
       "      <th>magSource</th>\n",
       "    </tr>\n",
       "  </thead>\n",
       "  <tbody>\n",
       "    <tr>\n",
       "      <th>82</th>\n",
       "      <td>1985-07-16 17:01:24.910</td>\n",
       "      <td>-30.938</td>\n",
       "      <td>-71.350</td>\n",
       "      <td>68.4</td>\n",
       "      <td>4.6</td>\n",
       "      <td>mb</td>\n",
       "      <td>1.2</td>\n",
       "      <td>usp0002guf</td>\n",
       "      <td>2014-11-07T00:36:52.139Z</td>\n",
       "      <td>Coquimbo, Chile</td>\n",
       "      <td>6.4</td>\n",
       "      <td>6.0</td>\n",
       "      <td>us</td>\n",
       "      <td>us</td>\n",
       "    </tr>\n",
       "    <tr>\n",
       "      <th>366</th>\n",
       "      <td>1985-02-22 12:30:36.020</td>\n",
       "      <td>-33.083</td>\n",
       "      <td>-71.927</td>\n",
       "      <td>33.0</td>\n",
       "      <td>4.4</td>\n",
       "      <td>mb</td>\n",
       "      <td>1.0</td>\n",
       "      <td>usp0002c4g</td>\n",
       "      <td>2014-11-07T00:36:11.505Z</td>\n",
       "      <td>offshore Valparaiso, Chile</td>\n",
       "      <td>NaN</td>\n",
       "      <td>2.0</td>\n",
       "      <td>us</td>\n",
       "      <td>us</td>\n",
       "    </tr>\n",
       "    <tr>\n",
       "      <th>206</th>\n",
       "      <td>1985-03-18 18:40:50.110</td>\n",
       "      <td>-33.425</td>\n",
       "      <td>-71.907</td>\n",
       "      <td>33.0</td>\n",
       "      <td>5.0</td>\n",
       "      <td>mb</td>\n",
       "      <td>1.2</td>\n",
       "      <td>usp0002d0n</td>\n",
       "      <td>2014-11-07T00:36:19.362Z</td>\n",
       "      <td>offshore Valparaiso, Chile</td>\n",
       "      <td>NaN</td>\n",
       "      <td>14.0</td>\n",
       "      <td>us</td>\n",
       "      <td>us</td>\n",
       "    </tr>\n",
       "    <tr>\n",
       "      <th>59</th>\n",
       "      <td>1985-08-16 14:45:11.110</td>\n",
       "      <td>-33.365</td>\n",
       "      <td>-72.441</td>\n",
       "      <td>33.0</td>\n",
       "      <td>4.2</td>\n",
       "      <td>mb</td>\n",
       "      <td>1.5</td>\n",
       "      <td>usp0002hu1</td>\n",
       "      <td>2014-11-07T00:37:01.636Z</td>\n",
       "      <td>offshore Valparaiso, Chile</td>\n",
       "      <td>NaN</td>\n",
       "      <td>2.0</td>\n",
       "      <td>us</td>\n",
       "      <td>us</td>\n",
       "    </tr>\n",
       "    <tr>\n",
       "      <th>270</th>\n",
       "      <td>1985-03-06 13:32:15.800</td>\n",
       "      <td>-33.209</td>\n",
       "      <td>-71.924</td>\n",
       "      <td>53.3</td>\n",
       "      <td>4.3</td>\n",
       "      <td>mb</td>\n",
       "      <td>1.3</td>\n",
       "      <td>usp0002chd</td>\n",
       "      <td>2014-11-07T00:36:17.221Z</td>\n",
       "      <td>offshore Valparaiso, Chile</td>\n",
       "      <td>13.0</td>\n",
       "      <td>3.0</td>\n",
       "      <td>us</td>\n",
       "      <td>us</td>\n",
       "    </tr>\n",
       "  </tbody>\n",
       "</table>\n",
       "</div>"
      ],
      "text/plain": [
       "                       time  latitude  longitude  depth  mag magType  rms  \\\n",
       "82  1985-07-16 17:01:24.910   -30.938    -71.350   68.4  4.6      mb  1.2   \n",
       "366 1985-02-22 12:30:36.020   -33.083    -71.927   33.0  4.4      mb  1.0   \n",
       "206 1985-03-18 18:40:50.110   -33.425    -71.907   33.0  5.0      mb  1.2   \n",
       "59  1985-08-16 14:45:11.110   -33.365    -72.441   33.0  4.2      mb  1.5   \n",
       "270 1985-03-06 13:32:15.800   -33.209    -71.924   53.3  4.3      mb  1.3   \n",
       "\n",
       "             id                   updated                       place  \\\n",
       "82   usp0002guf  2014-11-07T00:36:52.139Z             Coquimbo, Chile   \n",
       "366  usp0002c4g  2014-11-07T00:36:11.505Z  offshore Valparaiso, Chile   \n",
       "206  usp0002d0n  2014-11-07T00:36:19.362Z  offshore Valparaiso, Chile   \n",
       "59   usp0002hu1  2014-11-07T00:37:01.636Z  offshore Valparaiso, Chile   \n",
       "270  usp0002chd  2014-11-07T00:36:17.221Z  offshore Valparaiso, Chile   \n",
       "\n",
       "     depthError  magNst locationSource magSource  \n",
       "82          6.4     6.0             us        us  \n",
       "366         NaN     2.0             us        us  \n",
       "206         NaN    14.0             us        us  \n",
       "59          NaN     2.0             us        us  \n",
       "270        13.0     3.0             us        us  "
      ]
     },
     "execution_count": 3,
     "metadata": {},
     "output_type": "execute_result"
    }
   ],
   "source": [
    "quake_1985.sample(5)"
   ]
  },
  {
   "cell_type": "markdown",
   "metadata": {},
   "source": [
    "# Plot time series of earthquake"
   ]
  },
  {
   "cell_type": "code",
   "execution_count": 4,
   "metadata": {},
   "outputs": [
    {
     "data": {
      "text/plain": [
       "<matplotlib.axes._subplots.AxesSubplot at 0x1bbc13d0fd0>"
      ]
     },
     "execution_count": 4,
     "metadata": {},
     "output_type": "execute_result"
    },
    {
     "data": {
      "image/png": "[encoded data removed]",
      "text/plain": [
       "<matplotlib.figure.Figure at 0x1bbc13d0048>"
      ]
     },
     "metadata": {},
     "output_type": "display_data"
    }
   ],
   "source": [
    "%matplotlib inline\n",
    "quake_1985_ts = quake_1985.set_index('time')\n",
    "quake_1985_ts['mag'].plot(logy=False)"
   ]
  },
  {
   "cell_type": "markdown",
   "metadata": {},
   "source": [
    "# Calculate the frequency of earthquakes"
   ]
  },
  {
   "cell_type": "code",
   "execution_count": 5,
   "metadata": {},
   "outputs": [
    {
     "data": {
      "text/html": [
       "<div>\n",
       "<style>\n",
       "    .dataframe thead tr:only-child th {\n",
       "        text-align: right;\n",
       "    }\n",
       "\n",
       "    .dataframe thead th {\n",
       "        text-align: left;\n",
       "    }\n",
       "\n",
       "    .dataframe tbody tr th {\n",
       "        vertical-align: top;\n",
       "    }\n",
       "</style>\n",
       "<table border=\"1\" class=\"dataframe\">\n",
       "  <thead>\n",
       "    <tr style=\"text-align: right;\">\n",
       "      <th></th>\n",
       "      <th>place</th>\n",
       "      <th>count</th>\n",
       "    </tr>\n",
       "  </thead>\n",
       "  <tbody>\n",
       "    <tr>\n",
       "      <th>0</th>\n",
       "      <td>Araucania, Chile</td>\n",
       "      <td>3</td>\n",
       "    </tr>\n",
       "    <tr>\n",
       "      <th>1</th>\n",
       "      <td>Atacama, Chile</td>\n",
       "      <td>8</td>\n",
       "    </tr>\n",
       "    <tr>\n",
       "      <th>2</th>\n",
       "      <td>Bio-Bio, Chile</td>\n",
       "      <td>7</td>\n",
       "    </tr>\n",
       "    <tr>\n",
       "      <th>3</th>\n",
       "      <td>Catamarca, Argentina</td>\n",
       "      <td>8</td>\n",
       "    </tr>\n",
       "    <tr>\n",
       "      <th>4</th>\n",
       "      <td>Coquimbo, Chile</td>\n",
       "      <td>8</td>\n",
       "    </tr>\n",
       "    <tr>\n",
       "      <th>5</th>\n",
       "      <td>Falkland Islands region</td>\n",
       "      <td>1</td>\n",
       "    </tr>\n",
       "    <tr>\n",
       "      <th>6</th>\n",
       "      <td>La Rioja, Argentina</td>\n",
       "      <td>4</td>\n",
       "    </tr>\n",
       "    <tr>\n",
       "      <th>7</th>\n",
       "      <td>Libertador General Bernardo O'Higgins, Chile</td>\n",
       "      <td>9</td>\n",
       "    </tr>\n",
       "    <tr>\n",
       "      <th>8</th>\n",
       "      <td>Maule, Chile</td>\n",
       "      <td>6</td>\n",
       "    </tr>\n",
       "    <tr>\n",
       "      <th>9</th>\n",
       "      <td>Mendoza, Argentina</td>\n",
       "      <td>11</td>\n",
       "    </tr>\n",
       "    <tr>\n",
       "      <th>10</th>\n",
       "      <td>Neuquen, Argentina</td>\n",
       "      <td>3</td>\n",
       "    </tr>\n",
       "    <tr>\n",
       "      <th>11</th>\n",
       "      <td>Region Metropolitana, Chile</td>\n",
       "      <td>10</td>\n",
       "    </tr>\n",
       "    <tr>\n",
       "      <th>12</th>\n",
       "      <td>San Juan, Argentina</td>\n",
       "      <td>12</td>\n",
       "    </tr>\n",
       "    <tr>\n",
       "      <th>13</th>\n",
       "      <td>Santiago Del Estero, Argentina</td>\n",
       "      <td>1</td>\n",
       "    </tr>\n",
       "    <tr>\n",
       "      <th>14</th>\n",
       "      <td>Tucuman, Argentina</td>\n",
       "      <td>1</td>\n",
       "    </tr>\n",
       "    <tr>\n",
       "      <th>15</th>\n",
       "      <td>Valparaiso, Chile</td>\n",
       "      <td>20</td>\n",
       "    </tr>\n",
       "    <tr>\n",
       "      <th>16</th>\n",
       "      <td>off the coast of Aisen, Chile</td>\n",
       "      <td>6</td>\n",
       "    </tr>\n",
       "    <tr>\n",
       "      <th>17</th>\n",
       "      <td>off the coast of Araucania, Chile</td>\n",
       "      <td>1</td>\n",
       "    </tr>\n",
       "    <tr>\n",
       "      <th>18</th>\n",
       "      <td>off the coast of Bio-Bio, Chile</td>\n",
       "      <td>1</td>\n",
       "    </tr>\n",
       "    <tr>\n",
       "      <th>19</th>\n",
       "      <td>off the coast of Libertador O'Higgins, Chile</td>\n",
       "      <td>1</td>\n",
       "    </tr>\n",
       "    <tr>\n",
       "      <th>20</th>\n",
       "      <td>off the coast of Los Lagos, Chile</td>\n",
       "      <td>1</td>\n",
       "    </tr>\n",
       "    <tr>\n",
       "      <th>21</th>\n",
       "      <td>off the coast of Valparaiso, Chile</td>\n",
       "      <td>5</td>\n",
       "    </tr>\n",
       "    <tr>\n",
       "      <th>22</th>\n",
       "      <td>offshore Araucania, Chile</td>\n",
       "      <td>4</td>\n",
       "    </tr>\n",
       "    <tr>\n",
       "      <th>23</th>\n",
       "      <td>offshore Atacama, Chile</td>\n",
       "      <td>1</td>\n",
       "    </tr>\n",
       "    <tr>\n",
       "      <th>24</th>\n",
       "      <td>offshore Bio-Bio, Chile</td>\n",
       "      <td>2</td>\n",
       "    </tr>\n",
       "    <tr>\n",
       "      <th>25</th>\n",
       "      <td>offshore Coquimbo, Chile</td>\n",
       "      <td>2</td>\n",
       "    </tr>\n",
       "    <tr>\n",
       "      <th>26</th>\n",
       "      <td>offshore Libertador O'Higgins, Chile</td>\n",
       "      <td>50</td>\n",
       "    </tr>\n",
       "    <tr>\n",
       "      <th>27</th>\n",
       "      <td>offshore Los Lagos, Chile</td>\n",
       "      <td>5</td>\n",
       "    </tr>\n",
       "    <tr>\n",
       "      <th>28</th>\n",
       "      <td>offshore Maule, Chile</td>\n",
       "      <td>2</td>\n",
       "    </tr>\n",
       "    <tr>\n",
       "      <th>29</th>\n",
       "      <td>offshore Valparaiso, Chile</td>\n",
       "      <td>199</td>\n",
       "    </tr>\n",
       "  </tbody>\n",
       "</table>\n",
       "</div>"
      ],
      "text/plain": [
       "                                           place  count\n",
       "0                               Araucania, Chile      3\n",
       "1                                 Atacama, Chile      8\n",
       "2                                 Bio-Bio, Chile      7\n",
       "3                           Catamarca, Argentina      8\n",
       "4                                Coquimbo, Chile      8\n",
       "5                        Falkland Islands region      1\n",
       "6                            La Rioja, Argentina      4\n",
       "7   Libertador General Bernardo O'Higgins, Chile      9\n",
       "8                                   Maule, Chile      6\n",
       "9                             Mendoza, Argentina     11\n",
       "10                            Neuquen, Argentina      3\n",
       "11                   Region Metropolitana, Chile     10\n",
       "12                           San Juan, Argentina     12\n",
       "13                Santiago Del Estero, Argentina      1\n",
       "14                            Tucuman, Argentina      1\n",
       "15                             Valparaiso, Chile     20\n",
       "16                 off the coast of Aisen, Chile      6\n",
       "17             off the coast of Araucania, Chile      1\n",
       "18               off the coast of Bio-Bio, Chile      1\n",
       "19  off the coast of Libertador O'Higgins, Chile      1\n",
       "20             off the coast of Los Lagos, Chile      1\n",
       "21            off the coast of Valparaiso, Chile      5\n",
       "22                     offshore Araucania, Chile      4\n",
       "23                       offshore Atacama, Chile      1\n",
       "24                       offshore Bio-Bio, Chile      2\n",
       "25                      offshore Coquimbo, Chile      2\n",
       "26          offshore Libertador O'Higgins, Chile     50\n",
       "27                     offshore Los Lagos, Chile      5\n",
       "28                         offshore Maule, Chile      2\n",
       "29                    offshore Valparaiso, Chile    199"
      ]
     },
     "execution_count": 5,
     "metadata": {},
     "output_type": "execute_result"
    }
   ],
   "source": [
    "# calculate the count of earthquakes\n",
    "quake_count = quake_1985.groupby(['place'])['id'].agg('count').reset_index().rename(columns={'id': 'count'}).reset_index(drop=True)\n",
    "quake_count"
   ]
  },
  {
   "cell_type": "markdown",
   "metadata": {},
   "source": [
    "# Plot the frequency of earthquakes"
   ]
  },
  {
   "cell_type": "code",
   "execution_count": 6,
   "metadata": {},
   "outputs": [
    {
     "data": {
      "text/plain": [
       "Text(0,0.5,'Frequecies')"
      ]
     },
     "execution_count": 6,
     "metadata": {},
     "output_type": "execute_result"
    },
    {
     "data": {
      "image/png": "[encoded data removed]",
      "text/plain": [
       "<matplotlib.figure.Figure at 0x1bbbf83e7b8>"
      ]
     },
     "metadata": {},
     "output_type": "display_data"
    }
   ],
   "source": [
    "import matplotlib.pyplot as plt\n",
    "plt.bar(quake_count['place'], quake_count['count'])\n",
    "plt.xticks(rotation=90)\n",
    "plt.ylabel('Frequecies')"
   ]
  },
  {
   "cell_type": "code",
   "execution_count": null,
   "metadata": {
    "collapsed": true
   },
   "outputs": [],
   "source": []
  },
  {
   "cell_type": "code",
   "execution_count": null,
   "metadata": {
    "collapsed": true
   },
   "outputs": [],
   "source": []
  }
 ],
 "metadata": {
  "kernelspec": {
   "display_name": "Python 3",
   "language": "python",
   "name": "python3"
  },
  "language_info": {
   "codemirror_mode": {
    "name": "ipython",
    "version": 3
   },
   "file_extension": ".py",
   "mimetype": "text/x-python",
   "name": "python",
   "nbconvert_exporter": "python",
   "pygments_lexer": "ipython3",
   "version": "3.6.3"
  }
 },
 "nbformat": 4,
 "nbformat_minor": 2
}
